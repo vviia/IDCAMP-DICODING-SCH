{
  "nbformat": 4,
  "nbformat_minor": 0,
  "metadata": {
    "colab": {
      "name": "Latihan12_CNN_Clean_vs_Messy_Room.ipynb",
      "provenance": [],
      "collapsed_sections": []
    },
    "kernelspec": {
      "name": "python3",
      "display_name": "Python 3"
    },
    "accelerator": "GPU"
  },
  "cells": [
    {
      "cell_type": "code",
      "metadata": {
        "id": "AATzcBWpGuyG"
      },
      "source": [
        "import tensorflow as tf"
      ],
      "execution_count": 1,
      "outputs": []
    },
    {
      "cell_type": "code",
      "metadata": {
        "id": "DRSrhuatHGi-",
        "colab": {
          "base_uri": "https://localhost:8080/"
        },
        "outputId": "316ccef4-86fe-445d-a651-28abe7283650"
      },
      "source": [
        "!wget --no-check-certificate \\\n",
        "  https://github.com/dicodingacademy/assets/raw/main/ml_pemula_academy/messy-vs-clean-room.zip \\\n",
        "  -O /tmp/messy_vs_clean_room.zip"
      ],
      "execution_count": 2,
      "outputs": [
        {
          "output_type": "stream",
          "name": "stdout",
          "text": [
            "--2022-06-17 07:20:32--  https://github.com/dicodingacademy/assets/raw/main/ml_pemula_academy/messy-vs-clean-room.zip\n",
            "Resolving github.com (github.com)... 20.205.243.166\n",
            "Connecting to github.com (github.com)|20.205.243.166|:443... connected.\n",
            "HTTP request sent, awaiting response... 302 Found\n",
            "Location: https://raw.githubusercontent.com/dicodingacademy/assets/main/ml_pemula_academy/messy-vs-clean-room.zip [following]\n",
            "--2022-06-17 07:20:33--  https://raw.githubusercontent.com/dicodingacademy/assets/main/ml_pemula_academy/messy-vs-clean-room.zip\n",
            "Resolving raw.githubusercontent.com (raw.githubusercontent.com)... 185.199.108.133, 185.199.109.133, 185.199.110.133, ...\n",
            "Connecting to raw.githubusercontent.com (raw.githubusercontent.com)|185.199.108.133|:443... connected.\n",
            "HTTP request sent, awaiting response... 200 OK\n",
            "Length: 70392746 (67M) [application/zip]\n",
            "Saving to: ‘/tmp/messy_vs_clean_room.zip’\n",
            "\n",
            "/tmp/messy_vs_clean 100%[===================>]  67.13M   221MB/s    in 0.3s    \n",
            "\n",
            "2022-06-17 07:20:38 (221 MB/s) - ‘/tmp/messy_vs_clean_room.zip’ saved [70392746/70392746]\n",
            "\n"
          ]
        }
      ]
    },
    {
      "cell_type": "code",
      "metadata": {
        "id": "RTBu2oJfHIbH"
      },
      "source": [
        "# melakukan ekstraksi pada file zip\n",
        "import zipfile,os\n",
        "local_zip = '/tmp/messy_vs_clean_room.zip'\n",
        "zip_ref = zipfile.ZipFile(local_zip, 'r')\n",
        "zip_ref.extractall('/tmp')\n",
        "zip_ref.close()\n",
        "\n",
        "base_dir = '/tmp/images'\n",
        "train_dir = os.path.join(base_dir, 'train')\n",
        "validation_dir = os.path.join(base_dir, 'val')"
      ],
      "execution_count": 3,
      "outputs": []
    },
    {
      "cell_type": "code",
      "metadata": {
        "id": "7XudL3NRHKLl",
        "colab": {
          "base_uri": "https://localhost:8080/"
        },
        "outputId": "286777c8-5749-4fc8-cd70-1d67dbd3d1a0"
      },
      "source": [
        "os.listdir('/tmp/images/train')"
      ],
      "execution_count": 4,
      "outputs": [
        {
          "output_type": "execute_result",
          "data": {
            "text/plain": [
              "['clean', 'messy']"
            ]
          },
          "metadata": {},
          "execution_count": 4
        }
      ]
    },
    {
      "cell_type": "code",
      "metadata": {
        "id": "dKIS8oM6HMwv",
        "colab": {
          "base_uri": "https://localhost:8080/"
        },
        "outputId": "44b341b3-bbfe-40c8-c9f0-421d74f1ce17"
      },
      "source": [
        "os.listdir('/tmp/images/val')"
      ],
      "execution_count": 5,
      "outputs": [
        {
          "output_type": "execute_result",
          "data": {
            "text/plain": [
              "['clean', 'messy']"
            ]
          },
          "metadata": {},
          "execution_count": 5
        }
      ]
    },
    {
      "cell_type": "code",
      "metadata": {
        "id": "CIbS5WB-HOhC"
      },
      "source": [
        "# membuat direktori ruangan rapi pada direktori data training\n",
        "#train_clean_dir = os.path.join(train_dir, 'clean')\n",
        "\n",
        "# membuat direktori ruangan berantakan pada direktori data training\n",
        "#train_messy_dir = os.path.join(train_dir, 'messy')\n",
        "\n",
        "# membuat direktori ruangan rapi pada direktori data validasi\n",
        "#validation_clean_dir = os.path.join(validation_dir, 'clean')\n",
        "\n",
        "# membuat direktori ruangan berantakan pada direktori data validasi\n",
        "#validation_messy_dir = os.path.join(validation_dir, 'messy')"
      ],
      "execution_count": null,
      "outputs": []
    },
    {
      "cell_type": "code",
      "metadata": {
        "id": "6-lp90PCHQRZ"
      },
      "source": [
        "from tensorflow.keras.preprocessing.image import ImageDataGenerator\n",
        "train_datagen = ImageDataGenerator(\n",
        "                    rescale=1./255,\n",
        "                    rotation_range=20,\n",
        "                    horizontal_flip=True,\n",
        "                    shear_range = 0.2,\n",
        "                    fill_mode = 'nearest')\n",
        "\n",
        "validation_datagen = ImageDataGenerator(\n",
        "                    rescale=1./255)"
      ],
      "execution_count": 6,
      "outputs": []
    },
    {
      "cell_type": "code",
      "metadata": {
        "id": "5jZFBH10HSI_",
        "colab": {
          "base_uri": "https://localhost:8080/"
        },
        "outputId": "2ce6ee04-4d47-4260-d8b4-af1603d7da44"
      },
      "source": [
        "train_generator = train_datagen.flow_from_directory(\n",
        "        train_dir,  # direktori data latih\n",
        "        target_size=(150, 150),  # mengubah resolusi seluruh gambar menjadi 150x150 piksel\n",
        "        batch_size=4,\n",
        "        # karena ini merupakan masalah klasifikasi 2 kelas maka menggunakan class_mode = 'binary'\n",
        "        class_mode='binary')\n",
        "\n",
        "validation_generator = validation_datagen.flow_from_directory(\n",
        "        validation_dir, # direktori data validasi\n",
        "        target_size=(150, 150), # mengubah resolusi seluruh gambar menjadi 150x150 piksel\n",
        "        batch_size=4, \n",
        "        # karena ini merupakan masalah klasifikasi 2 kelas maka menggunakan class_mode = 'binary'\n",
        "        class_mode='binary')"
      ],
      "execution_count": 7,
      "outputs": [
        {
          "output_type": "stream",
          "name": "stdout",
          "text": [
            "Found 192 images belonging to 2 classes.\n",
            "Found 20 images belonging to 2 classes.\n"
          ]
        }
      ]
    },
    {
      "cell_type": "code",
      "metadata": {
        "id": "tJ_KwTQJHT-U"
      },
      "source": [
        "model = tf.keras.models.Sequential([\n",
        "    tf.keras.layers.Conv2D(32, (3,3), activation='relu', input_shape=(150, 150, 3)),\n",
        "    tf.keras.layers.MaxPooling2D(2, 2),\n",
        "    tf.keras.layers.Conv2D(64, (3,3), activation='relu'),\n",
        "    tf.keras.layers.MaxPooling2D(2,2),\n",
        "    tf.keras.layers.Conv2D(128, (3,3), activation='relu'),\n",
        "    tf.keras.layers.MaxPooling2D(2,2),\n",
        "    tf.keras.layers.Conv2D(512, (3,3), activation='relu'),\n",
        "    tf.keras.layers.MaxPooling2D(2,2),\n",
        "    tf.keras.layers.Flatten(),\n",
        "    tf.keras.layers.Dense(512, activation='relu'),\n",
        "    tf.keras.layers.Dense(1, activation='sigmoid')\n",
        "])"
      ],
      "execution_count": 8,
      "outputs": []
    },
    {
      "cell_type": "code",
      "metadata": {
        "colab": {
          "base_uri": "https://localhost:8080/"
        },
        "id": "sgB1dDJ1KypF",
        "outputId": "c7ade71a-9095-4cfb-d7e2-17c9c5961aad"
      },
      "source": [
        "model.summary()"
      ],
      "execution_count": 9,
      "outputs": [
        {
          "output_type": "stream",
          "name": "stdout",
          "text": [
            "Model: \"sequential\"\n",
            "_________________________________________________________________\n",
            " Layer (type)                Output Shape              Param #   \n",
            "=================================================================\n",
            " conv2d (Conv2D)             (None, 148, 148, 32)      896       \n",
            "                                                                 \n",
            " max_pooling2d (MaxPooling2D  (None, 74, 74, 32)       0         \n",
            " )                                                               \n",
            "                                                                 \n",
            " conv2d_1 (Conv2D)           (None, 72, 72, 64)        18496     \n",
            "                                                                 \n",
            " max_pooling2d_1 (MaxPooling  (None, 36, 36, 64)       0         \n",
            " 2D)                                                             \n",
            "                                                                 \n",
            " conv2d_2 (Conv2D)           (None, 34, 34, 128)       73856     \n",
            "                                                                 \n",
            " max_pooling2d_2 (MaxPooling  (None, 17, 17, 128)      0         \n",
            " 2D)                                                             \n",
            "                                                                 \n",
            " conv2d_3 (Conv2D)           (None, 15, 15, 512)       590336    \n",
            "                                                                 \n",
            " max_pooling2d_3 (MaxPooling  (None, 7, 7, 512)        0         \n",
            " 2D)                                                             \n",
            "                                                                 \n",
            " flatten (Flatten)           (None, 25088)             0         \n",
            "                                                                 \n",
            " dense (Dense)               (None, 512)               12845568  \n",
            "                                                                 \n",
            " dense_1 (Dense)             (None, 1)                 513       \n",
            "                                                                 \n",
            "=================================================================\n",
            "Total params: 13,529,665\n",
            "Trainable params: 13,529,665\n",
            "Non-trainable params: 0\n",
            "_________________________________________________________________\n"
          ]
        }
      ]
    },
    {
      "cell_type": "code",
      "metadata": {
        "id": "mbvLD0cVHXJ6"
      },
      "source": [
        "model.compile(loss='binary_crossentropy',\n",
        "              optimizer=tf.optimizers.Adam(),\n",
        "              metrics=['accuracy'])"
      ],
      "execution_count": 10,
      "outputs": []
    },
    {
      "cell_type": "code",
      "metadata": {
        "id": "VVmUsHpzHX3w",
        "colab": {
          "base_uri": "https://localhost:8080/"
        },
        "outputId": "0825de6c-f377-41ec-a96a-a65912dd5027"
      },
      "source": [
        "history = model.fit(\n",
        "      train_generator,\n",
        "      steps_per_epoch=25,  # berapa batch yang akan dieksekusi pada setiap epoch\n",
        "      epochs=25,\n",
        "      validation_data=validation_generator, # menampilkan akurasi pengujian data validasi\n",
        "      validation_steps=5,  # berapa batch yang akan dieksekusi pada setiap epoch\n",
        "      verbose=2)"
      ],
      "execution_count": 11,
      "outputs": [
        {
          "output_type": "stream",
          "name": "stdout",
          "text": [
            "Epoch 1/25\n",
            "25/25 - 14s - loss: 0.8077 - accuracy: 0.5600 - val_loss: 0.6680 - val_accuracy: 0.7500 - 14s/epoch - 549ms/step\n",
            "Epoch 2/25\n",
            "25/25 - 1s - loss: 0.6534 - accuracy: 0.6000 - val_loss: 0.6473 - val_accuracy: 0.7500 - 1s/epoch - 40ms/step\n",
            "Epoch 3/25\n",
            "25/25 - 1s - loss: 0.7233 - accuracy: 0.5500 - val_loss: 0.6931 - val_accuracy: 0.5000 - 1s/epoch - 40ms/step\n",
            "Epoch 4/25\n",
            "25/25 - 1s - loss: 0.6932 - accuracy: 0.5100 - val_loss: 0.6931 - val_accuracy: 0.5000 - 1s/epoch - 40ms/step\n",
            "Epoch 5/25\n",
            "25/25 - 1s - loss: 0.6934 - accuracy: 0.4900 - val_loss: 0.6933 - val_accuracy: 0.5000 - 1s/epoch - 40ms/step\n",
            "Epoch 6/25\n",
            "25/25 - 1s - loss: 0.6969 - accuracy: 0.3900 - val_loss: 0.6929 - val_accuracy: 0.4500 - 1s/epoch - 41ms/step\n",
            "Epoch 7/25\n",
            "25/25 - 1s - loss: 0.6936 - accuracy: 0.5100 - val_loss: 0.6938 - val_accuracy: 0.5000 - 998ms/epoch - 40ms/step\n",
            "Epoch 8/25\n",
            "25/25 - 1s - loss: 0.6953 - accuracy: 0.4900 - val_loss: 0.6942 - val_accuracy: 0.5000 - 990ms/epoch - 40ms/step\n",
            "Epoch 9/25\n",
            "25/25 - 1s - loss: 0.6966 - accuracy: 0.4500 - val_loss: 0.6931 - val_accuracy: 0.5000 - 987ms/epoch - 39ms/step\n",
            "Epoch 10/25\n",
            "25/25 - 1s - loss: 0.6939 - accuracy: 0.5300 - val_loss: 0.6934 - val_accuracy: 0.5000 - 1s/epoch - 41ms/step\n",
            "Epoch 11/25\n",
            "25/25 - 1s - loss: 0.6934 - accuracy: 0.5000 - val_loss: 0.6929 - val_accuracy: 0.6000 - 1s/epoch - 40ms/step\n",
            "Epoch 12/25\n",
            "25/25 - 1s - loss: 0.6907 - accuracy: 0.5600 - val_loss: 0.6915 - val_accuracy: 0.5000 - 1s/epoch - 41ms/step\n",
            "Epoch 13/25\n",
            "25/25 - 1s - loss: 0.6978 - accuracy: 0.5400 - val_loss: 0.6925 - val_accuracy: 0.5000 - 973ms/epoch - 39ms/step\n",
            "Epoch 14/25\n",
            "25/25 - 1s - loss: 0.6922 - accuracy: 0.5000 - val_loss: 0.6909 - val_accuracy: 0.5000 - 985ms/epoch - 39ms/step\n",
            "Epoch 15/25\n",
            "25/25 - 1s - loss: 0.6873 - accuracy: 0.5800 - val_loss: 0.6880 - val_accuracy: 0.5000 - 988ms/epoch - 40ms/step\n",
            "Epoch 16/25\n",
            "25/25 - 1s - loss: 0.6992 - accuracy: 0.5300 - val_loss: 0.6947 - val_accuracy: 0.5000 - 975ms/epoch - 39ms/step\n",
            "Epoch 17/25\n",
            "25/25 - 1s - loss: 0.6996 - accuracy: 0.4700 - val_loss: 0.6928 - val_accuracy: 0.5000 - 981ms/epoch - 39ms/step\n",
            "Epoch 18/25\n",
            "25/25 - 1s - loss: 0.7053 - accuracy: 0.4900 - val_loss: 0.7041 - val_accuracy: 0.5000 - 1s/epoch - 40ms/step\n",
            "Epoch 19/25\n",
            "25/25 - 1s - loss: 0.7010 - accuracy: 0.5400 - val_loss: 0.6782 - val_accuracy: 0.7500 - 987ms/epoch - 39ms/step\n",
            "Epoch 20/25\n",
            "25/25 - 1s - loss: 0.6780 - accuracy: 0.6400 - val_loss: 0.6523 - val_accuracy: 0.6500 - 980ms/epoch - 39ms/step\n",
            "Epoch 21/25\n",
            "25/25 - 1s - loss: 0.6779 - accuracy: 0.6400 - val_loss: 0.6219 - val_accuracy: 0.7500 - 989ms/epoch - 40ms/step\n",
            "Epoch 22/25\n",
            "25/25 - 1s - loss: 0.6435 - accuracy: 0.7100 - val_loss: 0.4547 - val_accuracy: 0.8000 - 972ms/epoch - 39ms/step\n",
            "Epoch 23/25\n",
            "25/25 - 1s - loss: 0.5376 - accuracy: 0.7700 - val_loss: 0.5817 - val_accuracy: 0.7000 - 976ms/epoch - 39ms/step\n",
            "Epoch 24/25\n",
            "25/25 - 1s - loss: 0.5909 - accuracy: 0.7400 - val_loss: 0.3319 - val_accuracy: 0.9000 - 966ms/epoch - 39ms/step\n",
            "Epoch 25/25\n",
            "25/25 - 1s - loss: 0.5132 - accuracy: 0.7800 - val_loss: 0.5721 - val_accuracy: 0.6500 - 973ms/epoch - 39ms/step\n"
          ]
        }
      ]
    },
    {
      "cell_type": "code",
      "metadata": {
        "id": "GQOoO8GTHbOR"
      },
      "source": [
        "import numpy as np\n",
        "from google.colab import files\n",
        "from tensorflow.keras.preprocessing import image\n",
        "import matplotlib.pyplot as plt\n",
        "import matplotlib.image as mpimg\n",
        "import matplotlib.pyplot as plt\n",
        "import matplotlib.image as mpimg\n",
        "%matplotlib inline\n",
        "\n",
        "uploaded = files.upload()\n",
        "\n",
        "for fn in uploaded.keys():\n",
        " \n",
        "  # predicting images\n",
        "  path = fn\n",
        "  img = image.load_img(path, target_size=(150,150))\n",
        "\n",
        "  imgplot = plt.imshow(img)\n",
        "  x = image.img_to_array(img)\n",
        "  x = np.expand_dims(x, axis=0)\n",
        "  images = np.vstack([x])\n",
        "\n",
        "  classes = model.predict(images, batch_size=10)  \n",
        "  print(fn)\n",
        "  if classes==1:\n",
        "   print('messy')\n",
        "  else:\n",
        "   print('clean')"
      ],
      "execution_count": null,
      "outputs": []
    },
    {
      "cell_type": "code",
      "metadata": {
        "id": "BlFz4gT1aQfM",
        "colab": {
          "base_uri": "https://localhost:8080/"
        },
        "outputId": "fd15a9cb-bbb0-4744-c3bd-2ae8f7baf5b7"
      },
      "source": [
        "classes"
      ],
      "execution_count": null,
      "outputs": [
        {
          "output_type": "execute_result",
          "data": {
            "text/plain": [
              "array([[0.]], dtype=float32)"
            ]
          },
          "metadata": {},
          "execution_count": 31
        }
      ]
    },
    {
      "cell_type": "code",
      "source": [
        ""
      ],
      "metadata": {
        "id": "qLftS0l9TVbR"
      },
      "execution_count": null,
      "outputs": []
    }
  ]
}